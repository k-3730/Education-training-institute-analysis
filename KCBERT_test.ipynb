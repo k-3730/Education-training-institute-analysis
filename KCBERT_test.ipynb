{
 "cells": [
  {
   "cell_type": "code",
   "execution_count": 29,
   "metadata": {},
   "outputs": [],
   "source": [
    "import torch\n",
    "from transformers import AutoModelForSequenceClassification, AutoTokenizer\n",
    "import pandas as pd\n",
    "from sklearn.metrics import classification_report\n",
    "from torch.utils.data import DataLoader, TensorDataset\n",
    "import numpy as np\n"
   ]
  },
  {
   "cell_type": "code",
   "execution_count": 27,
   "metadata": {},
   "outputs": [],
   "source": [
    "from tqdm.auto import tqdm"
   ]
  },
  {
   "cell_type": "code",
   "execution_count": null,
   "metadata": {},
   "outputs": [],
   "source": [
    "model_path = \"./finetuned_kcbert_large\"\n",
    "tokenizer = AutoTokenizer.from_pretrained(\"beomi/kcbert-large\")\n",
    "model = AutoModelForSequenceClassification.from_pretrained(model_path)\n",
    "device = torch.device(\"cuda\" if torch.cuda.is_available() else \"cpu\")\n",
    "model.to(device)"
   ]
  },
  {
   "cell_type": "code",
   "execution_count": 5,
   "metadata": {},
   "outputs": [],
   "source": [
    "test_df = pd.read_excel(\"아이스크림에듀 라벨링 데이터 (1~1000).xlsx\")"
   ]
  },
  {
   "cell_type": "code",
   "execution_count": 6,
   "metadata": {},
   "outputs": [
    {
     "data": {
      "text/html": [
       "<div>\n",
       "<style scoped>\n",
       "    .dataframe tbody tr th:only-of-type {\n",
       "        vertical-align: middle;\n",
       "    }\n",
       "\n",
       "    .dataframe tbody tr th {\n",
       "        vertical-align: top;\n",
       "    }\n",
       "\n",
       "    .dataframe thead th {\n",
       "        text-align: right;\n",
       "    }\n",
       "</style>\n",
       "<table border=\"1\" class=\"dataframe\">\n",
       "  <thead>\n",
       "    <tr style=\"text-align: right;\">\n",
       "      <th></th>\n",
       "      <th>후기</th>\n",
       "      <th>라벨링</th>\n",
       "    </tr>\n",
       "  </thead>\n",
       "  <tbody>\n",
       "    <tr>\n",
       "      <th>0</th>\n",
       "      <td>구글활용법 연수를 통해 구글활용도에 대한 이해를 높이고 소소한 팁들을 많이 알게 되...</td>\n",
       "      <td>1</td>\n",
       "    </tr>\n",
       "    <tr>\n",
       "      <th>1</th>\n",
       "      <td>평소 정리의 힘을 중요하게 생각해서 신청한 연수입니다. 소소한 꿀팁을 얻을 수 있어...</td>\n",
       "      <td>1</td>\n",
       "    </tr>\n",
       "    <tr>\n",
       "      <th>2</th>\n",
       "      <td>학급에 존재할 수 있는 다양한 사례에 맞춘 교수, 학습법을 강의 내용으로 구성하여 ...</td>\n",
       "      <td>1</td>\n",
       "    </tr>\n",
       "    <tr>\n",
       "      <th>3</th>\n",
       "      <td>수업 시간에 활용할 수 있는 간편하고 유익한 웹 설명 좋았습니다.</td>\n",
       "      <td>1</td>\n",
       "    </tr>\n",
       "    <tr>\n",
       "      <th>4</th>\n",
       "      <td>연수를 통해 다양한 진로 교육 방법을 사례를 통해 배울 수 있어서 매우 유익했습니다!</td>\n",
       "      <td>1</td>\n",
       "    </tr>\n",
       "    <tr>\n",
       "      <th>...</th>\n",
       "      <td>...</td>\n",
       "      <td>...</td>\n",
       "    </tr>\n",
       "    <tr>\n",
       "      <th>990</th>\n",
       "      <td>연수 잘 들었습니다. 열심히 활용하도록 하겠습니다.</td>\n",
       "      <td>1</td>\n",
       "    </tr>\n",
       "    <tr>\n",
       "      <th>991</th>\n",
       "      <td>아이들과 교실에서 꼭 해보고 싶은 활동입니다.</td>\n",
       "      <td>1</td>\n",
       "    </tr>\n",
       "    <tr>\n",
       "      <th>992</th>\n",
       "      <td>학급경영에서 3월 첫날부터 5일까지의 놀이와 적절한 인사법.\\n\\n그리고 학부모와의...</td>\n",
       "      <td>1</td>\n",
       "    </tr>\n",
       "    <tr>\n",
       "      <th>993</th>\n",
       "      <td>선생님 말씀이 참 따뜻하고 그림책을 읽어줄 때마다 감동적인 표정과 어투로 읽어줄 때...</td>\n",
       "      <td>1</td>\n",
       "    </tr>\n",
       "    <tr>\n",
       "      <th>994</th>\n",
       "      <td>한 학기동안 다양한 유형의 아이들로 인해 고생을 좀 했습니다.\\n방학동안 다음 학기...</td>\n",
       "      <td>1</td>\n",
       "    </tr>\n",
       "  </tbody>\n",
       "</table>\n",
       "<p>995 rows × 2 columns</p>\n",
       "</div>"
      ],
      "text/plain": [
       "                                                    후기  라벨링\n",
       "0    구글활용법 연수를 통해 구글활용도에 대한 이해를 높이고 소소한 팁들을 많이 알게 되...    1\n",
       "1    평소 정리의 힘을 중요하게 생각해서 신청한 연수입니다. 소소한 꿀팁을 얻을 수 있어...    1\n",
       "2    학급에 존재할 수 있는 다양한 사례에 맞춘 교수, 학습법을 강의 내용으로 구성하여 ...    1\n",
       "3                 수업 시간에 활용할 수 있는 간편하고 유익한 웹 설명 좋았습니다.    1\n",
       "4      연수를 통해 다양한 진로 교육 방법을 사례를 통해 배울 수 있어서 매우 유익했습니다!    1\n",
       "..                                                 ...  ...\n",
       "990                       연수 잘 들었습니다. 열심히 활용하도록 하겠습니다.    1\n",
       "991                          아이들과 교실에서 꼭 해보고 싶은 활동입니다.    1\n",
       "992  학급경영에서 3월 첫날부터 5일까지의 놀이와 적절한 인사법.\\n\\n그리고 학부모와의...    1\n",
       "993  선생님 말씀이 참 따뜻하고 그림책을 읽어줄 때마다 감동적인 표정과 어투로 읽어줄 때...    1\n",
       "994  한 학기동안 다양한 유형의 아이들로 인해 고생을 좀 했습니다.\\n방학동안 다음 학기...    1\n",
       "\n",
       "[995 rows x 2 columns]"
      ]
     },
     "execution_count": 6,
     "metadata": {},
     "output_type": "execute_result"
    }
   ],
   "source": [
    "test_df"
   ]
  },
  {
   "cell_type": "code",
   "execution_count": 9,
   "metadata": {},
   "outputs": [],
   "source": [
    "test_encodings = tokenizer(test_df['후기'].tolist(), truncation=True, padding=True, max_length=300, return_tensors=\"pt\")\n",
    "test_labels = torch.tensor(test_df['라벨링'].tolist())"
   ]
  },
  {
   "cell_type": "code",
   "execution_count": 24,
   "metadata": {},
   "outputs": [],
   "source": [
    "dataset = TensorDataset(test_encodings['input_ids'], test_encodings['attention_mask'], test_labels)\n",
    "loader = DataLoader(dataset, batch_size=16, shuffle=False)"
   ]
  },
  {
   "cell_type": "code",
   "execution_count": null,
   "metadata": {},
   "outputs": [],
   "source": [
    "model.eval()"
   ]
  },
  {
   "cell_type": "code",
   "execution_count": 28,
   "metadata": {},
   "outputs": [
    {
     "name": "stderr",
     "output_type": "stream",
     "text": [
      "100%|██████████| 63/63 [05:14<00:00,  4.99s/it]\n"
     ]
    }
   ],
   "source": [
    "predictions = []\n",
    "with torch.no_grad():\n",
    "    for input_ids, attention_mask, _ in tqdm(loader):\n",
    "        input_ids = input_ids.to(device)\n",
    "        attention_mask = attention_mask.to(device)\n",
    "        outputs = model(input_ids=input_ids, attention_mask=attention_mask)\n",
    "        preds = torch.argmax(outputs.logits, dim=-1)\n",
    "        predictions.extend(preds.cpu().numpy())"
   ]
  },
  {
   "cell_type": "code",
   "execution_count": 31,
   "metadata": {},
   "outputs": [],
   "source": [
    "true_labels = test_labels.numpy()\n",
    "predictions = np.array(predictions)"
   ]
  },
  {
   "cell_type": "code",
   "execution_count": 32,
   "metadata": {},
   "outputs": [
    {
     "name": "stdout",
     "output_type": "stream",
     "text": [
      "              precision    recall  f1-score   support\n",
      "\n",
      "    Negative       0.67      0.64      0.66        61\n",
      "    Positive       0.98      0.98      0.98       934\n",
      "\n",
      "    accuracy                           0.96       995\n",
      "   macro avg       0.82      0.81      0.82       995\n",
      "weighted avg       0.96      0.96      0.96       995\n",
      "\n"
     ]
    }
   ],
   "source": [
    "print(classification_report(true_labels, predictions, target_names=['Negative', 'Positive']))"
   ]
  },
  {
   "cell_type": "code",
   "execution_count": null,
   "metadata": {},
   "outputs": [],
   "source": []
  }
 ],
 "metadata": {
  "kernelspec": {
   "display_name": "Python 3",
   "language": "python",
   "name": "python3"
  },
  "language_info": {
   "codemirror_mode": {
    "name": "ipython",
    "version": 3
   },
   "file_extension": ".py",
   "mimetype": "text/x-python",
   "name": "python",
   "nbconvert_exporter": "python",
   "pygments_lexer": "ipython3",
   "version": "3.11.6"
  }
 },
 "nbformat": 4,
 "nbformat_minor": 2
}
