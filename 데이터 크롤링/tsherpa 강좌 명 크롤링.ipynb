{
 "cells": [
  {
   "cell_type": "code",
   "execution_count": 1,
   "metadata": {},
   "outputs": [],
   "source": [
    "from selenium import webdriver\n",
    "from bs4 import BeautifulSoup\n",
    "import time\n",
    "from selenium.webdriver.common.by import By\n",
    "from selenium.webdriver.support.ui import WebDriverWait\n",
    "from selenium.webdriver.support import expected_conditions as EC\n",
    "import pandas as pd"
   ]
  },
  {
   "cell_type": "markdown",
   "metadata": {},
   "source": [
    "41~70페이지"
   ]
  },
  {
   "cell_type": "code",
   "execution_count": 2,
   "metadata": {},
   "outputs": [],
   "source": [
    "driver = webdriver.Chrome()"
   ]
  },
  {
   "cell_type": "code",
   "execution_count": 3,
   "metadata": {},
   "outputs": [],
   "source": [
    "driver.get(\"https://edu.tsherpa.co.kr/LectureInfo/LectureReviews2\")\n",
    "driver.implicitly_wait(30) # 30초 기다리기"
   ]
  },
  {
   "cell_type": "markdown",
   "metadata": {},
   "source": [
    "2페이지\n",
    "//*[@id=\"mainForm\"]/div[3]/a[3]\n",
    "\n",
    "3페이지\n",
    "//*[@id=\"mainForm\"]/div[3]/a[4]\n",
    "\n",
    "4페이지\n",
    "//*[@id=\"mainForm\"]/div[3]/a[4]\n",
    "\n",
    "5페이지\n",
    "//*[@id=\"mainForm\"]/div[3]/a[6]\n"
   ]
  },
  {
   "cell_type": "code",
   "execution_count": 4,
   "metadata": {},
   "outputs": [],
   "source": [
    "reviews = []\n",
    "page_num = 3\n",
    "\n",
    "# 페이지 넘기기\n",
    "for j in range(1,31):\n",
    "    for i in range(1,11): # 페이지 크롤링\n",
    "        main_window_handle = driver.current_window_handle\n",
    "        \n",
    "        new_tab = driver.find_element(\n",
    "        by = 'xpath',\n",
    "        value = f\"\"\"//*[@id=\"mainForm\"]/table/tbody/tr{[i]}/td[2]/a\"\"\")\n",
    "\n",
    "        new_tab.click()\n",
    "\n",
    "        time.sleep(5)\n",
    "\n",
    "        for handle in driver.window_handles:\n",
    "            if handle != main_window_handle:\n",
    "                new_window_handle = handle\n",
    "                break\n",
    "        \n",
    "        driver.switch_to.window(new_window_handle)\n",
    "\n",
    "        subject = driver.find_element(\n",
    "            by = 'xpath',\n",
    "            value = f\"\"\"//*[@id=\"mainForm\"]/div[1]/span/a\"\"\").text\n",
    "        \n",
    "        \n",
    "\n",
    "        reviews.append([subject])\n",
    "\n",
    "        driver.close()\n",
    "\n",
    "        driver.switch_to.window(main_window_handle)\n",
    "\n",
    "    next_button = driver.find_element(\n",
    "        by='xpath', \n",
    "        value=f\"\"\"//*[@id=\"mainForm\"]/div[3]/a{[page_num]}\"\"\")\n",
    "    \n",
    "    next_button.click()\n",
    "    \n",
    "    time.sleep(5)\n",
    "\n",
    "    if page_num < 12:\n",
    "        page_num += 1\n",
    "    else:\n",
    "        page_num = 3 "
   ]
  },
  {
   "cell_type": "code",
   "execution_count": 12,
   "metadata": {},
   "outputs": [],
   "source": [
    "reviews = pd.DataFrame(reviews)"
   ]
  },
  {
   "cell_type": "code",
   "execution_count": 17,
   "metadata": {},
   "outputs": [],
   "source": [
    "reviews.to_excel(excel_writer='241-270.xlsx')"
   ]
  },
  {
   "cell_type": "code",
   "execution_count": 16,
   "metadata": {},
   "outputs": [
    {
     "name": "stdout",
     "output_type": "stream",
     "text": [
      "Collecting openpyxlNote: you may need to restart the kernel to use updated packages.\n",
      "\n",
      "  Downloading openpyxl-3.1.2-py2.py3-none-any.whl (249 kB)\n",
      "     ---------------------------------------- 0.0/250.0 kB ? eta -:--:--\n",
      "     ---- ---------------------------------- 30.7/250.0 kB 1.4 MB/s eta 0:00:01\n",
      "     -------------------------------------  245.8/250.0 kB 3.0 MB/s eta 0:00:01\n",
      "     -------------------------------------- 250.0/250.0 kB 3.1 MB/s eta 0:00:00\n",
      "Collecting et-xmlfile (from openpyxl)\n",
      "  Downloading et_xmlfile-1.1.0-py3-none-any.whl (4.7 kB)\n",
      "Installing collected packages: et-xmlfile, openpyxl\n",
      "Successfully installed et-xmlfile-1.1.0 openpyxl-3.1.2\n"
     ]
    },
    {
     "name": "stderr",
     "output_type": "stream",
     "text": [
      "\n",
      "[notice] A new release of pip is available: 23.2.1 -> 23.3.1\n",
      "[notice] To update, run: C:\\Users\\user\\AppData\\Local\\Microsoft\\WindowsApps\\PythonSoftwareFoundation.Python.3.11_qbz5n2kfra8p0\\python.exe -m pip install --upgrade pip\n"
     ]
    }
   ],
   "source": [
    "%pip install openpyxl"
   ]
  },
  {
   "cell_type": "code",
   "execution_count": null,
   "metadata": {},
   "outputs": [],
   "source": []
  }
 ],
 "metadata": {
  "kernelspec": {
   "display_name": "Python 3",
   "language": "python",
   "name": "python3"
  },
  "language_info": {
   "codemirror_mode": {
    "name": "ipython",
    "version": 3
   },
   "file_extension": ".py",
   "mimetype": "text/x-python",
   "name": "python",
   "nbconvert_exporter": "python",
   "pygments_lexer": "ipython3",
   "version": "3.11.6"
  },
  "orig_nbformat": 4
 },
 "nbformat": 4,
 "nbformat_minor": 2
}
