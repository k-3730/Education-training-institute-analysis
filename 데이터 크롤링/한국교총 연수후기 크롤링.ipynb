{
 "cells": [
  {
   "cell_type": "code",
   "execution_count": null,
   "id": "932bf029",
   "metadata": {},
   "outputs": [],
   "source": [
    "import requests   # request패키지\n",
    "from bs4 import BeautifulSoup\n",
    "import time\n",
    "import pandas as pd"
   ]
  },
  {
   "cell_type": "code",
   "execution_count": null,
   "id": "45d27c18",
   "metadata": {},
   "outputs": [],
   "source": [
    "if page.status_code == 200:\n",
    "    print('ok')\n",
    "else:\n",
    "    print('err')"
   ]
  },
  {
   "cell_type": "code",
   "execution_count": null,
   "id": "05f32d62",
   "metadata": {},
   "outputs": [],
   "source": [
    "def connect_page(ind):\n",
    "    url = f\"https://www.education.or.kr/studyjob/opinion.asp?GOTOPAGE={ind}&NextPage=&schType=&schString=&schClass=\"\n",
    "    page = requests.get(url)\n",
    "    \n",
    "    if page.status_code != 200:\n",
    "        return False\n",
    "    else:\n",
    "        return page"
   ]
  },
  {
   "cell_type": "code",
   "execution_count": null,
   "id": "302d57a7",
   "metadata": {},
   "outputs": [],
   "source": [
    "df = []\n",
    "\n",
    "for k in range(2,302):\n",
    "    page=connect_page(k)\n",
    "    time.sleep(1)\n",
    "    soup = BeautifulSoup(page.content, \"html.parser\")\n",
    "    \n",
    "    for i in range(0,15):\n",
    "        lecture = soup.find_all('td','courseName')[i].text\n",
    "        title = soup.find_all('td','title')[i].text.strip('\\n\\r\\t')\n",
    "        grade = soup.find_all('td','writer')[i].img['src'].split('_')[-1].split('.')[0][-1]\n",
    "        \n",
    "        df.append([lecture, title, grade])\n",
    "    k+=1\n",
    "df"
   ]
  },
  {
   "cell_type": "code",
   "execution_count": null,
   "id": "8770022e",
   "metadata": {},
   "outputs": [],
   "source": [
    "df = pd.DataFrame(df)"
   ]
  },
  {
   "cell_type": "code",
   "execution_count": null,
   "id": "8fe4bf09",
   "metadata": {},
   "outputs": [],
   "source": [
    "df.to_excel('한국교총후기_300.xlsx')"
   ]
  }
 ],
 "metadata": {
  "kernelspec": {
   "display_name": "Python 3 (ipykernel)",
   "language": "python",
   "name": "python3"
  },
  "language_info": {
   "codemirror_mode": {
    "name": "ipython",
    "version": 3
   },
   "file_extension": ".py",
   "mimetype": "text/x-python",
   "name": "python",
   "nbconvert_exporter": "python",
   "pygments_lexer": "ipython3",
   "version": "3.11.4"
  }
 },
 "nbformat": 4,
 "nbformat_minor": 5
}
